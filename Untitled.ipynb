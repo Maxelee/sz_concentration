{
 "cells": [
  {
   "cell_type": "code",
   "execution_count": 1,
   "id": "e0bc94b7",
   "metadata": {
    "ExecuteTime": {
     "end_time": "2023-03-30T17:40:02.256549Z",
     "start_time": "2023-03-30T17:40:01.252448Z"
    }
   },
   "outputs": [],
   "source": [
    "import numpy as np\n",
    "import matplotlib.pyplot as plt"
   ]
  },
  {
   "cell_type": "code",
   "execution_count": 2,
   "id": "56cb1f31",
   "metadata": {
    "ExecuteTime": {
     "end_time": "2023-03-30T17:40:02.883625Z",
     "start_time": "2023-03-30T17:40:02.259554Z"
    }
   },
   "outputs": [],
   "source": [
    "import numpy as np\n",
    "from KS_rho_P import *\n",
    "import ostrich.emulate\n",
    "import ostrich.interpolate\n",
    "import sklearn.gaussian_process.kernels"
   ]
  },
  {
   "cell_type": "code",
   "execution_count": 3,
   "id": "f0225b31",
   "metadata": {
    "ExecuteTime": {
     "end_time": "2023-03-30T17:40:02.887130Z",
     "start_time": "2023-03-30T17:40:02.884970Z"
    }
   },
   "outputs": [],
   "source": [
    "import time"
   ]
  },
  {
   "cell_type": "code",
   "execution_count": 32,
   "id": "2f1a51e5",
   "metadata": {
    "ExecuteTime": {
     "end_time": "2023-03-30T18:07:38.303572Z",
     "start_time": "2023-03-30T18:07:38.288707Z"
    }
   },
   "outputs": [],
   "source": [
    "import supercubos\n",
    "mins = np.array([np.log10(1e13), 0.35, 1.5])\n",
    "maxes = np.array([np.log10(1e16), 3.5, 10])\n",
    "n = 1000\n",
    "lh = supercubos.LatinSampler().get_lh_sample(mins, maxes, n)\n",
    "\n"
   ]
  },
  {
   "cell_type": "code",
   "execution_count": 26,
   "id": "584df923",
   "metadata": {
    "ExecuteTime": {
     "end_time": "2023-03-30T17:55:18.092042Z",
     "start_time": "2023-03-30T17:50:15.308421Z"
    }
   },
   "outputs": [],
   "source": [
    "nrp = 300 \n",
    "Pgas_2D_all = np.zeros((nrp, n))\n",
    "rhogas_2D_all = np.zeros((nrp, n)) \n",
    "gamma_all = np.zeros(n)\n",
    "\n",
    "for i, P in enumerate(lh):\n",
    "    M200c, r200c, c = P\n",
    "    M200c = 10**M200c\n",
    "    ti = time.time() \n",
    "    rp_array = np.linspace(0.01, 5, nrp)                                                                                     \n",
    "    gammav = get_gamma(c)\n",
    "    rho_gas = rhogas_2Dr(rp_array, gammav, c, M200c, r200c)                            \n",
    "    Pgas_2D = P0gas_2Dr(rp_array, gammav, c, M200c, r200c)                                                                                                                               \n",
    "    Pgas_2D[np.isinf(Pgas_2D)] = 0\n",
    "    Pgas_2D_all[:, i] = Pgas_2D                             \n",
    "    rhogas_2D_all[:, i] = rho_gas\n",
    "    gamma_all[i] = gammav                                                                                                     \n",
    "\n"
   ]
  },
  {
   "cell_type": "code",
   "execution_count": 27,
   "id": "71f531cc",
   "metadata": {
    "ExecuteTime": {
     "end_time": "2023-03-30T18:06:53.598192Z",
     "start_time": "2023-03-30T18:06:53.376403Z"
    }
   },
   "outputs": [
    {
     "data": {
      "text/plain": [
       "[<matplotlib.lines.Line2D at 0x7ff441583f10>]"
      ]
     },
     "execution_count": 27,
     "metadata": {},
     "output_type": "execute_result"
    },
    {
     "data": {
      "image/png": "[encoded data removed]",
      "text/plain": [
       "<Figure size 640x480 with 1 Axes>"
      ]
     },
     "metadata": {},
     "output_type": "display_data"
    }
   ],
   "source": [
    "plt.loglog(rp_array, rho_gas)\n",
    "plt.semilogy(rp_array, Pgas_2D)"
   ]
  },
  {
   "cell_type": "code",
   "execution_count": 28,
   "id": "c50e6693",
   "metadata": {
    "ExecuteTime": {
     "end_time": "2023-03-30T18:06:58.338763Z",
     "start_time": "2023-03-30T18:06:56.597819Z"
    }
   },
   "outputs": [
    {
     "name": "stderr",
     "output_type": "stream",
     "text": [
      "/opt/anaconda3/envs/sz_concentration/lib/python3.10/site-packages/sklearn/gaussian_process/kernels.py:420: ConvergenceWarning: The optimal value found for dimension 0 of parameter length_scale is close to the specified lower bound 1e-05. Decreasing the bound and calling fit again may find a better value.\n",
      "  warnings.warn(\n",
      "/opt/anaconda3/envs/sz_concentration/lib/python3.10/site-packages/sklearn/gaussian_process/kernels.py:420: ConvergenceWarning: The optimal value found for dimension 0 of parameter length_scale is close to the specified lower bound 1e-05. Decreasing the bound and calling fit again may find a better value.\n",
      "  warnings.warn(\n",
      "/opt/anaconda3/envs/sz_concentration/lib/python3.10/site-packages/sklearn/gaussian_process/kernels.py:420: ConvergenceWarning: The optimal value found for dimension 0 of parameter length_scale is close to the specified lower bound 1e-05. Decreasing the bound and calling fit again may find a better value.\n",
      "  warnings.warn(\n",
      "/opt/anaconda3/envs/sz_concentration/lib/python3.10/site-packages/sklearn/gaussian_process/kernels.py:420: ConvergenceWarning: The optimal value found for dimension 0 of parameter length_scale is close to the specified lower bound 1e-05. Decreasing the bound and calling fit again may find a better value.\n",
      "  warnings.warn(\n",
      "/opt/anaconda3/envs/sz_concentration/lib/python3.10/site-packages/sklearn/gaussian_process/kernels.py:420: ConvergenceWarning: The optimal value found for dimension 0 of parameter length_scale is close to the specified lower bound 1e-05. Decreasing the bound and calling fit again may find a better value.\n",
      "  warnings.warn(\n",
      "/opt/anaconda3/envs/sz_concentration/lib/python3.10/site-packages/sklearn/gaussian_process/kernels.py:420: ConvergenceWarning: The optimal value found for dimension 0 of parameter length_scale is close to the specified lower bound 1e-05. Decreasing the bound and calling fit again may find a better value.\n",
      "  warnings.warn(\n",
      "/opt/anaconda3/envs/sz_concentration/lib/python3.10/site-packages/sklearn/gaussian_process/kernels.py:420: ConvergenceWarning: The optimal value found for dimension 0 of parameter length_scale is close to the specified lower bound 1e-05. Decreasing the bound and calling fit again may find a better value.\n",
      "  warnings.warn(\n",
      "/opt/anaconda3/envs/sz_concentration/lib/python3.10/site-packages/sklearn/gaussian_process/kernels.py:420: ConvergenceWarning: The optimal value found for dimension 0 of parameter length_scale is close to the specified lower bound 1e-05. Decreasing the bound and calling fit again may find a better value.\n",
      "  warnings.warn(\n"
     ]
    }
   ],
   "source": [
    "emulator_P = ostrich.emulate.PcaEmulator.create_from_data(\n",
    "    lh,\n",
    "    Pgas_2D_all,\n",
    "    ostrich.interpolate.GaussianProcessInterpolator,\n",
    "    interpolator_kwargs={'kernel': sklearn.gaussian_process.kernels.Matern()},\n",
    "    num_components=10,\n",
    ")"
   ]
  },
  {
   "cell_type": "code",
   "execution_count": 29,
   "id": "cdf70307",
   "metadata": {
    "ExecuteTime": {
     "end_time": "2023-03-30T18:07:01.006334Z",
     "start_time": "2023-03-30T18:06:58.924160Z"
    }
   },
   "outputs": [],
   "source": [
    "test_params = np.array([np.random.uniform(mi, ma, 10) for mi, ma in zip(mins, maxes)]).T\n",
    "test_Ps = []\n",
    "test_emu = []\n",
    "for i, p in enumerate(test_params):\n",
    "    test_Ps.append(P0gas_2Dr(rp_array, get_gamma(p[-1]), p[-1], 10**p[0], p[1]))\n",
    "    test_emu.append(emulator_P([p]).ravel())"
   ]
  },
  {
   "cell_type": "code",
   "execution_count": 30,
   "id": "b36657d3",
   "metadata": {
    "ExecuteTime": {
     "end_time": "2023-03-30T18:07:02.173443Z",
     "start_time": "2023-03-30T18:07:01.767634Z"
    }
   },
   "outputs": [
    {
     "name": "stderr",
     "output_type": "stream",
     "text": [
      "/var/folders/2g/q1nb_42x629bp1zbjggj3xkw0000gp/T/ipykernel_35291/1078333078.py:6: RuntimeWarning: divide by zero encountered in divide\n",
      "  axs[1].semilogx(rp_array, eP/tP - 1, c='k', alpha=0.7)\n",
      "/var/folders/2g/q1nb_42x629bp1zbjggj3xkw0000gp/T/ipykernel_35291/1078333078.py:7: RuntimeWarning: divide by zero encountered in divide\n",
      "  res = eP/tP - 1\n"
     ]
    },
    {
     "data": {
      "image/png": "[encoded data removed]",
      "text/plain": [
       "<Figure size 640x480 with 2 Axes>"
      ]
     },
     "metadata": {},
     "output_type": "display_data"
    }
   ],
   "source": [
    "fig, axs = plt.subplots(nrows=2, sharex=True)\n",
    "cs = plt.cm.jet(np.linspace(0, 1, len(test_Ps)))\n",
    "for tP, eP, c in zip(test_Ps, test_emu, cs):\n",
    "    axs[0].loglog(rp_array, tP, c='b', alpha=0.3)\n",
    "    axs[0].loglog(rp_array, eP, c='r', ls=':', alpha=0.3)\n",
    "    axs[1].semilogx(rp_array, eP/tP - 1, c='k', alpha=0.7)\n",
    "    res = eP/tP - 1\n",
    "# axs[1].set_ylim(-1, 1)\n",
    "    "
   ]
  },
  {
   "cell_type": "code",
   "execution_count": 31,
   "id": "e75d6c52",
   "metadata": {
    "ExecuteTime": {
     "end_time": "2023-03-30T18:07:03.831917Z",
     "start_time": "2023-03-30T18:07:03.704595Z"
    }
   },
   "outputs": [
    {
     "data": {
      "image/png": "[encoded data removed]",
      "text/plain": [
       "<Figure size 640x480 with 1 Axes>"
      ]
     },
     "metadata": {},
     "output_type": "display_data"
    }
   ],
   "source": [
    "_ = plt.hist(np.log10(np.abs(res)), bins=20)"
   ]
  },
  {
   "cell_type": "markdown",
   "id": "63386ff3",
   "metadata": {},
   "source": [
    "# For a grid"
   ]
  },
  {
   "cell_type": "markdown",
   "id": "74e10e84",
   "metadata": {},
   "source": [
    "* We want to generate a 3D grid of 100, 100, 100 (1e6 combinations). \n",
    "* For each combination we want to save a profile P(r) and rho(r). \n",
    "* These profiles should be saved with tags that correspond to the mass, radius and concentration. \n",
    "* Now in brians code, we need to find the closest mass"
   ]
  },
  {
   "cell_type": "code",
   "execution_count": 11,
   "id": "4a778f4d",
   "metadata": {
    "ExecuteTime": {
     "end_time": "2023-03-30T17:45:41.204566Z",
     "start_time": "2023-03-30T17:45:41.201569Z"
    }
   },
   "outputs": [
    {
     "data": {
      "text/plain": [
       "[array([ 0,  1,  2,  3,  4,  5,  6,  7,  8,  9, 10, 11, 12, 13, 14, 15, 16,\n",
       "        17, 18, 19])]"
      ]
     },
     "execution_count": 11,
     "metadata": {},
     "output_type": "execute_result"
    }
   ],
   "source": [
    "np.meshgrid((np.arange(10), np.arange(10, 20)))"
   ]
  },
  {
   "cell_type": "code",
   "execution_count": 33,
   "id": "448fe6dc",
   "metadata": {
    "ExecuteTime": {
     "end_time": "2023-03-30T18:10:37.013765Z",
     "start_time": "2023-03-30T18:10:36.938625Z"
    }
   },
   "outputs": [],
   "source": [
    "from tqdm.notebook import tqdm"
   ]
  },
  {
   "cell_type": "code",
   "execution_count": null,
   "id": "01274203",
   "metadata": {},
   "outputs": [],
   "source": []
  },
  {
   "cell_type": "code",
   "execution_count": null,
   "id": "16da93bb",
   "metadata": {
    "ExecuteTime": {
     "start_time": "2023-03-30T18:11:26.856Z"
    }
   },
   "outputs": [
    {
     "data": {
      "application/vnd.jupyter.widget-view+json": {
       "model_id": "9edb676cc04b4d41a00a6cb6550aea25",
       "version_major": 2,
       "version_minor": 0
      },
      "text/plain": [
       "0it [00:00, ?it/s]"
      ]
     },
     "metadata": {},
     "output_type": "display_data"
    },
    {
     "data": {
      "application/vnd.jupyter.widget-view+json": {
       "model_id": "7715fa57038c4ed3ad21791e5c1d2b92",
       "version_major": 2,
       "version_minor": 0
      },
      "text/plain": [
       "0it [00:00, ?it/s]"
      ]
     },
     "metadata": {},
     "output_type": "display_data"
    },
    {
     "data": {
      "application/vnd.jupyter.widget-view+json": {
       "model_id": "",
       "version_major": 2,
       "version_minor": 0
      },
      "text/plain": [
       "0it [00:00, ?it/s]"
      ]
     },
     "metadata": {},
     "output_type": "display_data"
    },
    {
     "data": {
      "application/vnd.jupyter.widget-view+json": {
       "model_id": "",
       "version_major": 2,
       "version_minor": 0
      },
      "text/plain": [
       "0it [00:00, ?it/s]"
      ]
     },
     "metadata": {},
     "output_type": "display_data"
    },
    {
     "data": {
      "application/vnd.jupyter.widget-view+json": {
       "model_id": "",
       "version_major": 2,
       "version_minor": 0
      },
      "text/plain": [
       "0it [00:00, ?it/s]"
      ]
     },
     "metadata": {},
     "output_type": "display_data"
    },
    {
     "data": {
      "application/vnd.jupyter.widget-view+json": {
       "model_id": "",
       "version_major": 2,
       "version_minor": 0
      },
      "text/plain": [
       "0it [00:00, ?it/s]"
      ]
     },
     "metadata": {},
     "output_type": "display_data"
    },
    {
     "data": {
      "application/vnd.jupyter.widget-view+json": {
       "model_id": "",
       "version_major": 2,
       "version_minor": 0
      },
      "text/plain": [
       "0it [00:00, ?it/s]"
      ]
     },
     "metadata": {},
     "output_type": "display_data"
    },
    {
     "data": {
      "application/vnd.jupyter.widget-view+json": {
       "model_id": "",
       "version_major": 2,
       "version_minor": 0
      },
      "text/plain": [
       "0it [00:00, ?it/s]"
      ]
     },
     "metadata": {},
     "output_type": "display_data"
    },
    {
     "data": {
      "application/vnd.jupyter.widget-view+json": {
       "model_id": "",
       "version_major": 2,
       "version_minor": 0
      },
      "text/plain": [
       "0it [00:00, ?it/s]"
      ]
     },
     "metadata": {},
     "output_type": "display_data"
    },
    {
     "data": {
      "application/vnd.jupyter.widget-view+json": {
       "model_id": "",
       "version_major": 2,
       "version_minor": 0
      },
      "text/plain": [
       "0it [00:00, ?it/s]"
      ]
     },
     "metadata": {},
     "output_type": "display_data"
    },
    {
     "data": {
      "application/vnd.jupyter.widget-view+json": {
       "model_id": "",
       "version_major": 2,
       "version_minor": 0
      },
      "text/plain": [
       "0it [00:00, ?it/s]"
      ]
     },
     "metadata": {},
     "output_type": "display_data"
    },
    {
     "data": {
      "application/vnd.jupyter.widget-view+json": {
       "model_id": "",
       "version_major": 2,
       "version_minor": 0
      },
      "text/plain": [
       "0it [00:00, ?it/s]"
      ]
     },
     "metadata": {},
     "output_type": "display_data"
    },
    {
     "data": {
      "application/vnd.jupyter.widget-view+json": {
       "model_id": "",
       "version_major": 2,
       "version_minor": 0
      },
      "text/plain": [
       "0it [00:00, ?it/s]"
      ]
     },
     "metadata": {},
     "output_type": "display_data"
    },
    {
     "data": {
      "application/vnd.jupyter.widget-view+json": {
       "model_id": "",
       "version_major": 2,
       "version_minor": 0
      },
      "text/plain": [
       "0it [00:00, ?it/s]"
      ]
     },
     "metadata": {},
     "output_type": "display_data"
    },
    {
     "data": {
      "application/vnd.jupyter.widget-view+json": {
       "model_id": "",
       "version_major": 2,
       "version_minor": 0
      },
      "text/plain": [
       "0it [00:00, ?it/s]"
      ]
     },
     "metadata": {},
     "output_type": "display_data"
    },
    {
     "data": {
      "application/vnd.jupyter.widget-view+json": {
       "model_id": "",
       "version_major": 2,
       "version_minor": 0
      },
      "text/plain": [
       "0it [00:00, ?it/s]"
      ]
     },
     "metadata": {},
     "output_type": "display_data"
    },
    {
     "data": {
      "application/vnd.jupyter.widget-view+json": {
       "model_id": "",
       "version_major": 2,
       "version_minor": 0
      },
      "text/plain": [
       "0it [00:00, ?it/s]"
      ]
     },
     "metadata": {},
     "output_type": "display_data"
    },
    {
     "data": {
      "application/vnd.jupyter.widget-view+json": {
       "model_id": "",
       "version_major": 2,
       "version_minor": 0
      },
      "text/plain": [
       "0it [00:00, ?it/s]"
      ]
     },
     "metadata": {},
     "output_type": "display_data"
    },
    {
     "data": {
      "application/vnd.jupyter.widget-view+json": {
       "model_id": "",
       "version_major": 2,
       "version_minor": 0
      },
      "text/plain": [
       "0it [00:00, ?it/s]"
      ]
     },
     "metadata": {},
     "output_type": "display_data"
    },
    {
     "data": {
      "application/vnd.jupyter.widget-view+json": {
       "model_id": "",
       "version_major": 2,
       "version_minor": 0
      },
      "text/plain": [
       "0it [00:00, ?it/s]"
      ]
     },
     "metadata": {},
     "output_type": "display_data"
    },
    {
     "data": {
      "application/vnd.jupyter.widget-view+json": {
       "model_id": "",
       "version_major": 2,
       "version_minor": 0
      },
      "text/plain": [
       "0it [00:00, ?it/s]"
      ]
     },
     "metadata": {},
     "output_type": "display_data"
    },
    {
     "data": {
      "application/vnd.jupyter.widget-view+json": {
       "model_id": "",
       "version_major": 2,
       "version_minor": 0
      },
      "text/plain": [
       "0it [00:00, ?it/s]"
      ]
     },
     "metadata": {},
     "output_type": "display_data"
    },
    {
     "data": {
      "application/vnd.jupyter.widget-view+json": {
       "model_id": "",
       "version_major": 2,
       "version_minor": 0
      },
      "text/plain": [
       "0it [00:00, ?it/s]"
      ]
     },
     "metadata": {},
     "output_type": "display_data"
    },
    {
     "data": {
      "application/vnd.jupyter.widget-view+json": {
       "model_id": "",
       "version_major": 2,
       "version_minor": 0
      },
      "text/plain": [
       "0it [00:00, ?it/s]"
      ]
     },
     "metadata": {},
     "output_type": "display_data"
    },
    {
     "data": {
      "application/vnd.jupyter.widget-view+json": {
       "model_id": "",
       "version_major": 2,
       "version_minor": 0
      },
      "text/plain": [
       "0it [00:00, ?it/s]"
      ]
     },
     "metadata": {},
     "output_type": "display_data"
    },
    {
     "data": {
      "application/vnd.jupyter.widget-view+json": {
       "model_id": "",
       "version_major": 2,
       "version_minor": 0
      },
      "text/plain": [
       "0it [00:00, ?it/s]"
      ]
     },
     "metadata": {},
     "output_type": "display_data"
    },
    {
     "data": {
      "application/vnd.jupyter.widget-view+json": {
       "model_id": "",
       "version_major": 2,
       "version_minor": 0
      },
      "text/plain": [
       "0it [00:00, ?it/s]"
      ]
     },
     "metadata": {},
     "output_type": "display_data"
    },
    {
     "data": {
      "application/vnd.jupyter.widget-view+json": {
       "model_id": "",
       "version_major": 2,
       "version_minor": 0
      },
      "text/plain": [
       "0it [00:00, ?it/s]"
      ]
     },
     "metadata": {},
     "output_type": "display_data"
    },
    {
     "data": {
      "application/vnd.jupyter.widget-view+json": {
       "model_id": "",
       "version_major": 2,
       "version_minor": 0
      },
      "text/plain": [
       "0it [00:00, ?it/s]"
      ]
     },
     "metadata": {},
     "output_type": "display_data"
    },
    {
     "data": {
      "application/vnd.jupyter.widget-view+json": {
       "model_id": "",
       "version_major": 2,
       "version_minor": 0
      },
      "text/plain": [
       "0it [00:00, ?it/s]"
      ]
     },
     "metadata": {},
     "output_type": "display_data"
    },
    {
     "data": {
      "application/vnd.jupyter.widget-view+json": {
       "model_id": "",
       "version_major": 2,
       "version_minor": 0
      },
      "text/plain": [
       "0it [00:00, ?it/s]"
      ]
     },
     "metadata": {},
     "output_type": "display_data"
    },
    {
     "data": {
      "application/vnd.jupyter.widget-view+json": {
       "model_id": "",
       "version_major": 2,
       "version_minor": 0
      },
      "text/plain": [
       "0it [00:00, ?it/s]"
      ]
     },
     "metadata": {},
     "output_type": "display_data"
    },
    {
     "data": {
      "application/vnd.jupyter.widget-view+json": {
       "model_id": "",
       "version_major": 2,
       "version_minor": 0
      },
      "text/plain": [
       "0it [00:00, ?it/s]"
      ]
     },
     "metadata": {},
     "output_type": "display_data"
    },
    {
     "data": {
      "application/vnd.jupyter.widget-view+json": {
       "model_id": "",
       "version_major": 2,
       "version_minor": 0
      },
      "text/plain": [
       "0it [00:00, ?it/s]"
      ]
     },
     "metadata": {},
     "output_type": "display_data"
    },
    {
     "data": {
      "application/vnd.jupyter.widget-view+json": {
       "model_id": "807783228a594ab68f499d6a3e25633b",
       "version_major": 2,
       "version_minor": 0
      },
      "text/plain": [
       "0it [00:00, ?it/s]"
      ]
     },
     "metadata": {},
     "output_type": "display_data"
    }
   ],
   "source": [
    "nrp = 300 \n",
    "Ms = np.logspace(mins[0], maxes[0], 100)\n",
    "Rs = np.linspace(mins[1], maxes[1], 100)\n",
    "cs = np.linspace(mins[2], maxes[2], 100)\n",
    "\n",
    "\n",
    "Pgas_2D_all = np.zeros((nrp, n, n, n))\n",
    "rhogas_2D_all = np.zeros((nrp, n, n, n)) \n",
    "gamma_all = np.zeros(n)\n",
    "\n",
    "for i, M200c in tqdm(enumerate(Ms), leave=False):\n",
    "    for j, R200c in tqdm(enumerate(Rs), leave=False):\n",
    "        for k, c in tqdm(enumerate(cs), leave=False):\n",
    "\n",
    "            M200c, r200c, c = P\n",
    "            M200c = 10**M200c\n",
    "            ti = time.time() \n",
    "            rp_array = np.linspace(0.01, 5, nrp)                                                                                     \n",
    "            gammav = get_gamma(c)\n",
    "            rho_gas = rhogas_2Dr(rp_array, gammav, c, M200c, r200c)                            \n",
    "            Pgas_2D = P0gas_2Dr(rp_array, gammav, c, M200c, r200c)                                                                                                                               \n",
    "            Pgas_2D[np.isinf(Pgas_2D)] = 0\n",
    "            Pgas_2D_all[:, i, j, k] = Pgas_2D                             \n",
    "            rhogas_2D_all[:, i, j, k] = rho_gas\n",
    "            gamma_all[k] = gammav                                                                                                     \n",
    "\n"
   ]
  },
  {
   "cell_type": "code",
   "execution_count": null,
   "id": "a318d8c0",
   "metadata": {},
   "outputs": [],
   "source": []
  }
 ],
 "metadata": {
  "kernelspec": {
   "display_name": "Python 3 (ipykernel)",
   "language": "python",
   "name": "python3"
  },
  "language_info": {
   "codemirror_mode": {
    "name": "ipython",
    "version": 3
   },
   "file_extension": ".py",
   "mimetype": "text/x-python",
   "name": "python",
   "nbconvert_exporter": "python",
   "pygments_lexer": "ipython3",
   "version": "3.10.10"
  },
  "toc": {
   "base_numbering": 1,
   "nav_menu": {},
   "number_sections": true,
   "sideBar": true,
   "skip_h1_title": false,
   "title_cell": "Table of Contents",
   "title_sidebar": "Contents",
   "toc_cell": false,
   "toc_position": {},
   "toc_section_display": true,
   "toc_window_display": false
  }
 },
 "nbformat": 4,
 "nbformat_minor": 5
}
